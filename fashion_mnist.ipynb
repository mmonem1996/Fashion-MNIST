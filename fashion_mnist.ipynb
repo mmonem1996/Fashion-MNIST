{
 "cells": [
  {
   "cell_type": "markdown",
   "id": "annoying-fusion",
   "metadata": {},
   "source": [
    "# Fashion Mnist Dataset - Classification"
   ]
  },
  {
   "cell_type": "markdown",
   "id": "immune-depression",
   "metadata": {},
   "source": [
    "### Notebook Plan\n",
    "In this project, we will compare between 3 classification models in terms of accuracy score of training set and test set as well as the training time and number of parameters. These indicators will be measured by training all models for 5 epochs as unified basis of comparison.\n",
    "\n",
    "* Since the image data are pixels between (0,255) for color value, minimal preprocessing is needed: MinMaxScaler will be used to normalize both the training and the test data. For the target variable, one-hot encoding.\n",
    "* Following the preprocessing, 3 models will be investigated:\n",
    "    1. Dense neural network model (hidden unit of size 300)\n",
    "    2. Dense neural network model with an Autoencoder used as a feature engineering step\n",
    "    3. Convolutional neural network.\n"
   ]
  },
  {
   "cell_type": "markdown",
   "id": "lasting-advocate",
   "metadata": {},
   "source": [
    "### Dataset Overview\n",
    "this dataset contains images for 10 types of wear. These images are grey-colored and of size 28x28 pixels."
   ]
  },
  {
   "cell_type": "code",
   "execution_count": 16,
   "id": "processed-mongolia",
   "metadata": {},
   "outputs": [],
   "source": [
    "import numpy as np, pandas as pd\n",
    "import matplotlib.pyplot as plt\n",
    "from sklearn.preprocessing import MinMaxScaler\n",
    "\n",
    "import tensorflow.keras.backend as K\n",
    "import tensorflow.keras as kr\n",
    "\n",
    "%matplotlib inline"
   ]
  },
  {
   "cell_type": "code",
   "execution_count": 10,
   "id": "exclusive-italic",
   "metadata": {},
   "outputs": [],
   "source": [
    "df_train = pd.read_csv('fashion-mnist_train.csv')\n",
    "df_test = pd.read_csv('fashion-mnist_test.csv')"
   ]
  },
  {
   "cell_type": "markdown",
   "id": "communist-adapter",
   "metadata": {},
   "source": [
    "The below image illustrate the first 5 rows of the data. The first column is the target variable named “label”"
   ]
  },
  {
   "cell_type": "code",
   "execution_count": 12,
   "id": "emotional-effort",
   "metadata": {},
   "outputs": [
    {
     "data": {
      "text/html": [
       "<div>\n",
       "<style scoped>\n",
       "    .dataframe tbody tr th:only-of-type {\n",
       "        vertical-align: middle;\n",
       "    }\n",
       "\n",
       "    .dataframe tbody tr th {\n",
       "        vertical-align: top;\n",
       "    }\n",
       "\n",
       "    .dataframe thead th {\n",
       "        text-align: right;\n",
       "    }\n",
       "</style>\n",
       "<table border=\"1\" class=\"dataframe\">\n",
       "  <thead>\n",
       "    <tr style=\"text-align: right;\">\n",
       "      <th></th>\n",
       "      <th>label</th>\n",
       "      <th>pixel1</th>\n",
       "      <th>pixel2</th>\n",
       "      <th>pixel3</th>\n",
       "      <th>pixel4</th>\n",
       "      <th>pixel5</th>\n",
       "      <th>pixel6</th>\n",
       "      <th>pixel7</th>\n",
       "      <th>pixel8</th>\n",
       "      <th>pixel9</th>\n",
       "      <th>...</th>\n",
       "      <th>pixel775</th>\n",
       "      <th>pixel776</th>\n",
       "      <th>pixel777</th>\n",
       "      <th>pixel778</th>\n",
       "      <th>pixel779</th>\n",
       "      <th>pixel780</th>\n",
       "      <th>pixel781</th>\n",
       "      <th>pixel782</th>\n",
       "      <th>pixel783</th>\n",
       "      <th>pixel784</th>\n",
       "    </tr>\n",
       "  </thead>\n",
       "  <tbody>\n",
       "    <tr>\n",
       "      <th>0</th>\n",
       "      <td>2</td>\n",
       "      <td>0</td>\n",
       "      <td>0</td>\n",
       "      <td>0</td>\n",
       "      <td>0</td>\n",
       "      <td>0</td>\n",
       "      <td>0</td>\n",
       "      <td>0</td>\n",
       "      <td>0</td>\n",
       "      <td>0</td>\n",
       "      <td>...</td>\n",
       "      <td>0</td>\n",
       "      <td>0</td>\n",
       "      <td>0</td>\n",
       "      <td>0</td>\n",
       "      <td>0</td>\n",
       "      <td>0</td>\n",
       "      <td>0</td>\n",
       "      <td>0</td>\n",
       "      <td>0</td>\n",
       "      <td>0</td>\n",
       "    </tr>\n",
       "    <tr>\n",
       "      <th>1</th>\n",
       "      <td>9</td>\n",
       "      <td>0</td>\n",
       "      <td>0</td>\n",
       "      <td>0</td>\n",
       "      <td>0</td>\n",
       "      <td>0</td>\n",
       "      <td>0</td>\n",
       "      <td>0</td>\n",
       "      <td>0</td>\n",
       "      <td>0</td>\n",
       "      <td>...</td>\n",
       "      <td>0</td>\n",
       "      <td>0</td>\n",
       "      <td>0</td>\n",
       "      <td>0</td>\n",
       "      <td>0</td>\n",
       "      <td>0</td>\n",
       "      <td>0</td>\n",
       "      <td>0</td>\n",
       "      <td>0</td>\n",
       "      <td>0</td>\n",
       "    </tr>\n",
       "    <tr>\n",
       "      <th>2</th>\n",
       "      <td>6</td>\n",
       "      <td>0</td>\n",
       "      <td>0</td>\n",
       "      <td>0</td>\n",
       "      <td>0</td>\n",
       "      <td>0</td>\n",
       "      <td>0</td>\n",
       "      <td>0</td>\n",
       "      <td>5</td>\n",
       "      <td>0</td>\n",
       "      <td>...</td>\n",
       "      <td>0</td>\n",
       "      <td>0</td>\n",
       "      <td>0</td>\n",
       "      <td>30</td>\n",
       "      <td>43</td>\n",
       "      <td>0</td>\n",
       "      <td>0</td>\n",
       "      <td>0</td>\n",
       "      <td>0</td>\n",
       "      <td>0</td>\n",
       "    </tr>\n",
       "    <tr>\n",
       "      <th>3</th>\n",
       "      <td>0</td>\n",
       "      <td>0</td>\n",
       "      <td>0</td>\n",
       "      <td>0</td>\n",
       "      <td>1</td>\n",
       "      <td>2</td>\n",
       "      <td>0</td>\n",
       "      <td>0</td>\n",
       "      <td>0</td>\n",
       "      <td>0</td>\n",
       "      <td>...</td>\n",
       "      <td>3</td>\n",
       "      <td>0</td>\n",
       "      <td>0</td>\n",
       "      <td>0</td>\n",
       "      <td>0</td>\n",
       "      <td>1</td>\n",
       "      <td>0</td>\n",
       "      <td>0</td>\n",
       "      <td>0</td>\n",
       "      <td>0</td>\n",
       "    </tr>\n",
       "    <tr>\n",
       "      <th>4</th>\n",
       "      <td>3</td>\n",
       "      <td>0</td>\n",
       "      <td>0</td>\n",
       "      <td>0</td>\n",
       "      <td>0</td>\n",
       "      <td>0</td>\n",
       "      <td>0</td>\n",
       "      <td>0</td>\n",
       "      <td>0</td>\n",
       "      <td>0</td>\n",
       "      <td>...</td>\n",
       "      <td>0</td>\n",
       "      <td>0</td>\n",
       "      <td>0</td>\n",
       "      <td>0</td>\n",
       "      <td>0</td>\n",
       "      <td>0</td>\n",
       "      <td>0</td>\n",
       "      <td>0</td>\n",
       "      <td>0</td>\n",
       "      <td>0</td>\n",
       "    </tr>\n",
       "  </tbody>\n",
       "</table>\n",
       "<p>5 rows × 785 columns</p>\n",
       "</div>"
      ],
      "text/plain": [
       "   label  pixel1  pixel2  pixel3  pixel4  pixel5  pixel6  pixel7  pixel8  \\\n",
       "0      2       0       0       0       0       0       0       0       0   \n",
       "1      9       0       0       0       0       0       0       0       0   \n",
       "2      6       0       0       0       0       0       0       0       5   \n",
       "3      0       0       0       0       1       2       0       0       0   \n",
       "4      3       0       0       0       0       0       0       0       0   \n",
       "\n",
       "   pixel9  ...  pixel775  pixel776  pixel777  pixel778  pixel779  pixel780  \\\n",
       "0       0  ...         0         0         0         0         0         0   \n",
       "1       0  ...         0         0         0         0         0         0   \n",
       "2       0  ...         0         0         0        30        43         0   \n",
       "3       0  ...         3         0         0         0         0         1   \n",
       "4       0  ...         0         0         0         0         0         0   \n",
       "\n",
       "   pixel781  pixel782  pixel783  pixel784  \n",
       "0         0         0         0         0  \n",
       "1         0         0         0         0  \n",
       "2         0         0         0         0  \n",
       "3         0         0         0         0  \n",
       "4         0         0         0         0  \n",
       "\n",
       "[5 rows x 785 columns]"
      ]
     },
     "execution_count": 12,
     "metadata": {},
     "output_type": "execute_result"
    }
   ],
   "source": [
    "df_train.head()"
   ]
  },
  {
   "cell_type": "markdown",
   "id": "unknown-progress",
   "metadata": {},
   "source": [
    "No skewness in the target varaible as we can see below"
   ]
  },
  {
   "cell_type": "code",
   "execution_count": 11,
   "id": "incorporate-meditation",
   "metadata": {},
   "outputs": [
    {
     "data": {
      "text/plain": [
       "0    6000\n",
       "1    6000\n",
       "2    6000\n",
       "3    6000\n",
       "4    6000\n",
       "5    6000\n",
       "6    6000\n",
       "7    6000\n",
       "8    6000\n",
       "9    6000\n",
       "Name: label, dtype: int64"
      ]
     },
     "execution_count": 11,
     "metadata": {},
     "output_type": "execute_result"
    }
   ],
   "source": [
    "df_train.label.value_counts()"
   ]
  },
  {
   "cell_type": "code",
   "execution_count": 13,
   "id": "labeled-petersburg",
   "metadata": {},
   "outputs": [],
   "source": [
    "# We need to view a sample taken from all the categories\n",
    "image_samples = df_train.groupby('label').apply(lambda x: x.sample(1)).reset_index(drop=True)"
   ]
  },
  {
   "cell_type": "code",
   "execution_count": 14,
   "id": "centered-mobility",
   "metadata": {},
   "outputs": [],
   "source": [
    "# Merging all the sampled images into one picture\n",
    "img = np.zeros((2*28, 5*28))\n",
    "for i in range(2):\n",
    "    for j in range(5):\n",
    "        img[i*28: (i + 1) * 28, j*28: (j + 1) * 28] = image_samples.iloc[5*i + j, 1:].values.reshape(28,28)"
   ]
  },
  {
   "cell_type": "code",
   "execution_count": 9,
   "id": "exotic-thanksgiving",
   "metadata": {},
   "outputs": [
    {
     "data": {
      "image/png": "[encoded data removed]",
      "text/plain": [
       "<Figure size 432x288 with 1 Axes>"
      ]
     },
     "metadata": {
      "needs_background": "light"
     },
     "output_type": "display_data"
    }
   ],
   "source": [
    "plt.imshow(img, cmap='Greys_r')\n",
    "_ = plt.axis('off')"
   ]
  },
  {
   "cell_type": "markdown",
   "id": "tested-ozone",
   "metadata": {},
   "source": [
    "### Prerocessing"
   ]
  },
  {
   "cell_type": "code",
   "execution_count": 17,
   "id": "altered-overall",
   "metadata": {},
   "outputs": [],
   "source": [
    "# Loading X, y datasets and preprocessing\n",
    "X_train = df_train.iloc[:,1:]\n",
    "y_train = df_train['label']\n",
    "\n",
    "X_test = df_test.iloc[:,1:]\n",
    "y_test = df_test['label']\n",
    "\n",
    "X_train = X_train.astype('float32') / 255\n",
    "X_test = X_test.astype('float32') / 255\n",
    "\n",
    "X_train = MinMaxScaler().fit_transform(X_train)\n",
    "X_test = MinMaxScaler().fit_transform(X_test)"
   ]
  },
  {
   "cell_type": "code",
   "execution_count": 19,
   "id": "fossil-confidence",
   "metadata": {},
   "outputs": [],
   "source": [
    "# Encode target variable into one-hot encoding\n",
    "y_train_ohe = kr.utils.to_categorical(y_train)\n",
    "y_test_ohe = kr.utils.to_categorical(y_test)"
   ]
  },
  {
   "cell_type": "markdown",
   "id": "nuclear-module",
   "metadata": {},
   "source": [
    "---"
   ]
  },
  {
   "cell_type": "markdown",
   "id": "legitimate-trustee",
   "metadata": {},
   "source": [
    "## Section One: 1 HU Dense Network (Layer Size 300)"
   ]
  },
  {
   "cell_type": "code",
   "execution_count": 18,
   "id": "seasonal-gilbert",
   "metadata": {},
   "outputs": [],
   "source": [
    "from tensorflow.keras.layers import Input, Dense\n",
    "from tensorflow.keras.models import Sequential"
   ]
  },
  {
   "cell_type": "code",
   "execution_count": 21,
   "id": "furnished-acting",
   "metadata": {},
   "outputs": [],
   "source": [
    "Dense_Model = Sequential(name=\"Dense_NN_Model\")"
   ]
  },
  {
   "cell_type": "code",
   "execution_count": 22,
   "id": "innocent-converter",
   "metadata": {},
   "outputs": [],
   "source": [
    "Dense_Model.add(Input((784,), name='model1_input'))\n",
    "Dense_Model.add(Dense(300, activation='relu', name='model1_hidden_unit'))\n",
    "Dense_Model.add(Dense(10, activation='softmax', name='model1_output'))"
   ]
  },
  {
   "cell_type": "code",
   "execution_count": 23,
   "id": "german-conservation",
   "metadata": {},
   "outputs": [],
   "source": [
    "rmsprop = kr.optimizers.RMSprop(learning_rate=0.0005)\n",
    "Dense_Model.compile(rmsprop, loss='categorical_crossentropy', metrics=['accuracy'])"
   ]
  },
  {
   "cell_type": "code",
   "execution_count": 24,
   "id": "sealed-broad",
   "metadata": {},
   "outputs": [
    {
     "name": "stdout",
     "output_type": "stream",
     "text": [
      "Model: \"Dense_NN_Model\"\n",
      "_________________________________________________________________\n",
      " Layer (type)                Output Shape              Param #   \n",
      "=================================================================\n",
      " model1_hidden_unit (Dense)  (None, 300)               235500    \n",
      "                                                                 \n",
      " model1_output (Dense)       (None, 10)                3010      \n",
      "                                                                 \n",
      "=================================================================\n",
      "Total params: 238,510\n",
      "Trainable params: 238,510\n",
      "Non-trainable params: 0\n",
      "_________________________________________________________________\n"
     ]
    }
   ],
   "source": [
    "Dense_Model.summary()"
   ]
  },
  {
   "cell_type": "code",
   "execution_count": 25,
   "id": "everyday-arcade",
   "metadata": {},
   "outputs": [
    {
     "name": "stdout",
     "output_type": "stream",
     "text": [
      "Epoch 1/5\n",
      "1875/1875 [==============================] - 9s 4ms/step - loss: 0.5065 - accuracy: 0.8215 - val_loss: 0.4714 - val_accuracy: 0.8274\n",
      "Epoch 2/5\n",
      "1875/1875 [==============================] - 7s 4ms/step - loss: 0.3779 - accuracy: 0.8644 - val_loss: 0.3627 - val_accuracy: 0.8714\n",
      "Epoch 3/5\n",
      "1875/1875 [==============================] - 7s 4ms/step - loss: 0.3420 - accuracy: 0.8773 - val_loss: 0.3407 - val_accuracy: 0.8764\n",
      "Epoch 4/5\n",
      "1875/1875 [==============================] - 7s 4ms/step - loss: 0.3216 - accuracy: 0.8849 - val_loss: 0.3577 - val_accuracy: 0.8749\n",
      "Epoch 5/5\n",
      "1875/1875 [==============================] - 7s 4ms/step - loss: 0.3063 - accuracy: 0.8903 - val_loss: 0.3276 - val_accuracy: 0.8865\n"
     ]
    }
   ],
   "source": [
    "Dense_history = Dense_Model.fit(X_train, y_train_ohe, epochs=5, batch_size=32, validation_data=(X_test, y_test_ohe))"
   ]
  },
  {
   "cell_type": "code",
   "execution_count": 73,
   "id": "portuguese-motivation",
   "metadata": {},
   "outputs": [
    {
     "data": {
      "image/png": "[encoded data removed]",
      "text/plain": [
       "<Figure size 432x288 with 1 Axes>"
      ]
     },
     "metadata": {
      "needs_background": "light"
     },
     "output_type": "display_data"
    }
   ],
   "source": [
    "hist = Dense_history.history\n",
    "plt.plot(hist['loss'], 'b--', label='Training')\n",
    "plt.plot(hist['val_loss'], 'g--', label='Testing')\n",
    "plt.legend()\n",
    "plt.xlabel('Epoch')\n",
    "plt.ylabel('Loss')\n",
    "plt.xticks(ticks=np.arange(0, 5), labels=np.arange(1,6))\n",
    "plt.title('Learning Performance')\n",
    "plt.grid(True)"
   ]
  },
  {
   "cell_type": "markdown",
   "id": "animal-masters",
   "metadata": {},
   "source": [
    "---"
   ]
  },
  {
   "cell_type": "markdown",
   "id": "through-genetics",
   "metadata": {},
   "source": [
    "## Section 2: Using Autoencoder as a feature engineering:"
   ]
  },
  {
   "cell_type": "markdown",
   "id": "ethical-suffering",
   "metadata": {},
   "source": [
    "### Latent Space Dimension Estimation\n",
    "Using PCA, we can get an estimate of the latent feature dimension Via *explained_variance_ratio*"
   ]
  },
  {
   "cell_type": "code",
   "execution_count": 26,
   "id": "greater-athletics",
   "metadata": {},
   "outputs": [],
   "source": [
    "from sklearn.decomposition import PCA"
   ]
  },
  {
   "cell_type": "code",
   "execution_count": 27,
   "id": "revolutionary-patient",
   "metadata": {},
   "outputs": [],
   "source": [
    "pca = PCA().fit(X_train)"
   ]
  },
  {
   "cell_type": "code",
   "execution_count": 33,
   "id": "advance-infection",
   "metadata": {},
   "outputs": [
    {
     "data": {
      "image/png": "[encoded data removed]",
      "text/plain": [
       "<Figure size 720x360 with 1 Axes>"
      ]
     },
     "metadata": {
      "needs_background": "light"
     },
     "output_type": "display_data"
    }
   ],
   "source": [
    "explained_vars = np.cumsum(pca.explained_variance_ratio_) * 100\n",
    "plt.figure(figsize = (10, 5))\n",
    "plt.plot(explained_vars)\n",
    "plt.title('Explained Variance vs Latent Dim')\n",
    "plt.xlabel('Dim (n)')\n",
    "plt.ylabel('Explained Variance (%)')\n",
    "plt.yticks(ticks=np.arange(0, 101, 5))\n",
    "plt.ylim(explained_vars[0], 105)\n",
    "plt.grid(True)"
   ]
  },
  {
   "cell_type": "markdown",
   "id": "sitting-reunion",
   "metadata": {},
   "source": [
    "Based on the above figure, We will target a dimension of 200 for the latent space"
   ]
  },
  {
   "cell_type": "code",
   "execution_count": 34,
   "id": "growing-trade",
   "metadata": {},
   "outputs": [],
   "source": [
    "from tensorflow.keras.models import Model"
   ]
  },
  {
   "cell_type": "code",
   "execution_count": 35,
   "id": "legendary-psychology",
   "metadata": {},
   "outputs": [],
   "source": [
    "hu_size = 400\n",
    "latent_dim = 200\n",
    "input_shape = X_train.shape[1]\n",
    "\n",
    "m2_input = Input(shape = (input_shape,), name='encoder_input')\n",
    "m2_layer_hu = Dense(hu_size, activation = 'relu', name='encoder_hidden_unit')(m2_input)\n",
    "m2_encoded = Dense(latent_dim, activation = 'sigmoid', name = 'encoder_output')(m2_layer_hu)\n",
    "\n",
    "encoder_layers = [m2_input, m2_layer_hu, m2_encoded]\n",
    "\n",
    "encoder = Model(m2_input, m2_encoded, name = 'Encoder_Model')\n",
    "\n",
    "m2_dec_input = Input(shape = (latent_dim,), name = 'decoder_input')\n",
    "m2_dec_layer_hu = Dense(hu_size, activation = 'relu', name = 'decoder_hidden_unit')(m2_dec_input)\n",
    "m2_dec_output = Dense(input_shape, activation='sigmoid', name='decoder_output')(m2_dec_layer_hu)\n",
    "\n",
    "decoder = Model(m2_dec_input, m2_dec_output, name = 'Decoder_Model')\n",
    "\n",
    "decoder_output = decoder(encoder(m2_input))\n",
    "\n",
    "ae_model = Model(m2_input, decoder_output, name = 'Full_Autoencoder_Model')"
   ]
  },
  {
   "cell_type": "code",
   "execution_count": 36,
   "id": "lonely-addiction",
   "metadata": {},
   "outputs": [
    {
     "name": "stdout",
     "output_type": "stream",
     "text": [
      "Model: \"Full_Autoencoder_Model\"\n",
      "_________________________________________________________________\n",
      " Layer (type)                Output Shape              Param #   \n",
      "=================================================================\n",
      " encoder_input (InputLayer)  [(None, 784)]             0         \n",
      "                                                                 \n",
      " Encoder_Model (Functional)  (None, 200)               394200    \n",
      "|¯¯¯¯¯¯¯¯¯¯¯¯¯¯¯¯¯¯¯¯¯¯¯¯¯¯¯¯¯¯¯¯¯¯¯¯¯¯¯¯¯¯¯¯¯¯¯¯¯¯¯¯¯¯¯¯¯¯¯¯¯¯¯|\n",
      "| encoder_input (InputLayer)  [(None, 784)]           0         |\n",
      "|                                                               |\n",
      "| encoder_hidden_unit (Dense)  (None, 400)            314000    |\n",
      "|                                                               |\n",
      "| encoder_output (Dense)    (None, 200)               80200     |\n",
      "¯¯¯¯¯¯¯¯¯¯¯¯¯¯¯¯¯¯¯¯¯¯¯¯¯¯¯¯¯¯¯¯¯¯¯¯¯¯¯¯¯¯¯¯¯¯¯¯¯¯¯¯¯¯¯¯¯¯¯¯¯¯¯¯¯\n",
      " Decoder_Model (Functional)  (None, 784)               394784    \n",
      "|¯¯¯¯¯¯¯¯¯¯¯¯¯¯¯¯¯¯¯¯¯¯¯¯¯¯¯¯¯¯¯¯¯¯¯¯¯¯¯¯¯¯¯¯¯¯¯¯¯¯¯¯¯¯¯¯¯¯¯¯¯¯¯|\n",
      "| decoder_input (InputLayer)  [(None, 200)]           0         |\n",
      "|                                                               |\n",
      "| decoder_hidden_unit (Dense)  (None, 400)            80400     |\n",
      "|                                                               |\n",
      "| decoder_output (Dense)    (None, 784)               314384    |\n",
      "¯¯¯¯¯¯¯¯¯¯¯¯¯¯¯¯¯¯¯¯¯¯¯¯¯¯¯¯¯¯¯¯¯¯¯¯¯¯¯¯¯¯¯¯¯¯¯¯¯¯¯¯¯¯¯¯¯¯¯¯¯¯¯¯¯\n",
      "=================================================================\n",
      "Total params: 788,984\n",
      "Trainable params: 788,984\n",
      "Non-trainable params: 0\n",
      "_________________________________________________________________\n"
     ]
    }
   ],
   "source": [
    "ae_model.summary(expand_nested=True)"
   ]
  },
  {
   "cell_type": "code",
   "execution_count": 37,
   "id": "earlier-sodium",
   "metadata": {},
   "outputs": [],
   "source": [
    "rmsprop = kr.optimizers.RMSprop(learning_rate = 0.001)\n",
    "ae_model.compile(optimizer=rmsprop, loss='binary_crossentropy', metrics=['accuracy'])"
   ]
  },
  {
   "cell_type": "code",
   "execution_count": 38,
   "id": "returning-punishment",
   "metadata": {},
   "outputs": [
    {
     "name": "stdout",
     "output_type": "stream",
     "text": [
      "Epoch 1/5\n",
      "1875/1875 [==============================] - 29s 15ms/step - loss: 0.3119 - accuracy: 0.0156 - val_loss: 0.2912 - val_accuracy: 0.0194\n",
      "Epoch 2/5\n",
      "1875/1875 [==============================] - 29s 16ms/step - loss: 0.2842 - accuracy: 0.0258 - val_loss: 0.2807 - val_accuracy: 0.0291\n",
      "Epoch 3/5\n",
      "1875/1875 [==============================] - 27s 14ms/step - loss: 0.2776 - accuracy: 0.0329 - val_loss: 0.2757 - val_accuracy: 0.0450\n",
      "Epoch 4/5\n",
      "1875/1875 [==============================] - 27s 14ms/step - loss: 0.2743 - accuracy: 0.0374 - val_loss: 0.2733 - val_accuracy: 0.0470\n",
      "Epoch 5/5\n",
      "1875/1875 [==============================] - 27s 14ms/step - loss: 0.2722 - accuracy: 0.0411 - val_loss: 0.2694 - val_accuracy: 0.0455\n"
     ]
    },
    {
     "data": {
      "text/plain": [
       "<keras.callbacks.History at 0x2235673a910>"
      ]
     },
     "execution_count": 38,
     "metadata": {},
     "output_type": "execute_result"
    }
   ],
   "source": [
    "ae_model.fit(X_train, X_train, epochs=5, batch_size=32, validation_data=(X_test, X_test))"
   ]
  },
  {
   "cell_type": "code",
   "execution_count": 39,
   "id": "coastal-volunteer",
   "metadata": {},
   "outputs": [],
   "source": [
    "for layer in encoder.layers:\n",
    "    layer.trainable = False"
   ]
  },
  {
   "cell_type": "code",
   "execution_count": 40,
   "id": "addressed-making",
   "metadata": {},
   "outputs": [],
   "source": [
    "classifier_input = Input(shape=(latent_dim,), name='classifier_input')\n",
    "classifier_hu = Dense(250, activation='relu', name='classifier_hidden_unit')(classifier_input)\n",
    "classifier_output = Dense(y_train_ohe.shape[1], activation='softmax', name = 'classifier_output')(classifier_hu)\n",
    "\n",
    "ae_classifier = Model(classifier_input, classifier_output, name='Classifier')\n",
    "\n",
    "ae_clf_output = ae_classifier(encoder(m2_input))\n",
    "\n",
    "full_ae_clf_model = Model(m2_input, ae_clf_output, name='full_ae_classifier_model')"
   ]
  },
  {
   "cell_type": "code",
   "execution_count": 41,
   "id": "contrary-portfolio",
   "metadata": {},
   "outputs": [
    {
     "name": "stdout",
     "output_type": "stream",
     "text": [
      "Model: \"full_ae_classifier_model\"\n",
      "_________________________________________________________________\n",
      " Layer (type)                Output Shape              Param #   \n",
      "=================================================================\n",
      " encoder_input (InputLayer)  [(None, 784)]             0         \n",
      "                                                                 \n",
      " Encoder_Model (Functional)  (None, 200)               394200    \n",
      "|¯¯¯¯¯¯¯¯¯¯¯¯¯¯¯¯¯¯¯¯¯¯¯¯¯¯¯¯¯¯¯¯¯¯¯¯¯¯¯¯¯¯¯¯¯¯¯¯¯¯¯¯¯¯¯¯¯¯¯¯¯¯¯|\n",
      "| encoder_input (InputLayer)  [(None, 784)]           0         |\n",
      "|                                                               |\n",
      "| encoder_hidden_unit (Dense)  (None, 400)            314000    |\n",
      "|                                                               |\n",
      "| encoder_output (Dense)    (None, 200)               80200     |\n",
      "¯¯¯¯¯¯¯¯¯¯¯¯¯¯¯¯¯¯¯¯¯¯¯¯¯¯¯¯¯¯¯¯¯¯¯¯¯¯¯¯¯¯¯¯¯¯¯¯¯¯¯¯¯¯¯¯¯¯¯¯¯¯¯¯¯\n",
      " Classifier (Functional)     (None, 10)                52760     \n",
      "|¯¯¯¯¯¯¯¯¯¯¯¯¯¯¯¯¯¯¯¯¯¯¯¯¯¯¯¯¯¯¯¯¯¯¯¯¯¯¯¯¯¯¯¯¯¯¯¯¯¯¯¯¯¯¯¯¯¯¯¯¯¯¯|\n",
      "| classifier_input (InputLaye  [(None, 200)]          0         |\n",
      "| r)                                                            |\n",
      "|                                                               |\n",
      "| classifier_hidden_unit (Den  (None, 250)            50250     |\n",
      "| se)                                                           |\n",
      "|                                                               |\n",
      "| classifier_output (Dense)  (None, 10)               2510      |\n",
      "¯¯¯¯¯¯¯¯¯¯¯¯¯¯¯¯¯¯¯¯¯¯¯¯¯¯¯¯¯¯¯¯¯¯¯¯¯¯¯¯¯¯¯¯¯¯¯¯¯¯¯¯¯¯¯¯¯¯¯¯¯¯¯¯¯\n",
      "=================================================================\n",
      "Total params: 446,960\n",
      "Trainable params: 52,760\n",
      "Non-trainable params: 394,200\n",
      "_________________________________________________________________\n"
     ]
    }
   ],
   "source": [
    "full_ae_clf_model.summary(expand_nested=True)"
   ]
  },
  {
   "cell_type": "code",
   "execution_count": 42,
   "id": "thorough-stick",
   "metadata": {},
   "outputs": [],
   "source": [
    "full_ae_clf_model.compile(optimizer = kr.optimizers.RMSprop(learning_rate=0.001)\n",
    "                         ,loss='categorical_crossentropy'\n",
    "                         , metrics=['accuracy'])"
   ]
  },
  {
   "cell_type": "code",
   "execution_count": 43,
   "id": "straight-amsterdam",
   "metadata": {},
   "outputs": [
    {
     "name": "stdout",
     "output_type": "stream",
     "text": [
      "Epoch 1/5\n",
      "1875/1875 [==============================] - 7s 4ms/step - loss: 0.4605 - accuracy: 0.8363 - val_loss: 0.3782 - val_accuracy: 0.8634\n",
      "Epoch 2/5\n",
      "1875/1875 [==============================] - 7s 4ms/step - loss: 0.3579 - accuracy: 0.8683 - val_loss: 0.3460 - val_accuracy: 0.8738\n",
      "Epoch 3/5\n",
      "1875/1875 [==============================] - 7s 4ms/step - loss: 0.3300 - accuracy: 0.8784 - val_loss: 0.3352 - val_accuracy: 0.8768\n",
      "Epoch 4/5\n",
      "1875/1875 [==============================] - 7s 4ms/step - loss: 0.3136 - accuracy: 0.8844 - val_loss: 0.3097 - val_accuracy: 0.8877\n",
      "Epoch 5/5\n",
      "1875/1875 [==============================] - 7s 4ms/step - loss: 0.3022 - accuracy: 0.8892 - val_loss: 0.3192 - val_accuracy: 0.8842\n"
     ]
    },
    {
     "data": {
      "text/plain": [
       "<keras.callbacks.History at 0x223561f43a0>"
      ]
     },
     "execution_count": 43,
     "metadata": {},
     "output_type": "execute_result"
    }
   ],
   "source": [
    "full_ae_clf_model.fit(X_train, y_train_ohe, batch_size=32, epochs=5, validation_data=(X_test, y_test_ohe))"
   ]
  },
  {
   "cell_type": "markdown",
   "id": "vulnerable-alcohol",
   "metadata": {},
   "source": [
    "## Section 3: Convolutional Neural Network"
   ]
  },
  {
   "cell_type": "code",
   "execution_count": 45,
   "id": "chief-verification",
   "metadata": {},
   "outputs": [],
   "source": [
    "from tensorflow.keras.layers import Conv2D, MaxPooling2D, Dropout, Flatten"
   ]
  },
  {
   "cell_type": "code",
   "execution_count": 46,
   "id": "stock-rings",
   "metadata": {},
   "outputs": [],
   "source": [
    "X_train_cnn = X_train.reshape(-1,28,28,1)\n",
    "X_test_cnn = X_test.reshape(-1,28,28,1)"
   ]
  },
  {
   "cell_type": "code",
   "execution_count": 47,
   "id": "czech-freeze",
   "metadata": {},
   "outputs": [],
   "source": [
    "cnn_input = Input(shape=X_train_cnn.shape[1:], name='CNN_input')\n",
    "conv1 = Conv2D(32,(3 ,3) ,activation='relu', input_shape=X_train_cnn.shape[1:], name='conv_1')(cnn_input)\n",
    "conv2 = Conv2D(32,(3 ,3) ,activation='relu', name='conv_2')(conv1)\n",
    "mxpool1 = MaxPooling2D(pool_size=(3,3), name='pooling_layer_1')(conv2)\n",
    "conv3 = Conv2D(64,(3 ,3) ,activation='relu', name='conv_3')(mxpool1)\n",
    "conv4 = Conv2D(64,(3 ,3) ,activation='relu', name='conv_4')(conv3)\n",
    "mxpool2 = MaxPooling2D(pool_size=(3,3), name='pooling_layer_2')(conv4)\n",
    "drop1 = Dropout(0.25, name='droupout_regularization_0.25')(mxpool2)\n",
    "flt = Flatten()(drop1)\n",
    "cnn_dense = Dense(150, activation='relu', name='hidden_dense_unit')(flt)\n",
    "cnn_output = Dense(y_train_ohe.shape[1], activation='softmax', name='cnn_output')(cnn_dense)\n",
    "\n",
    "cnn_model = Model(cnn_input, cnn_output, name='CNN_Model')"
   ]
  },
  {
   "cell_type": "code",
   "execution_count": 48,
   "id": "cubic-daniel",
   "metadata": {},
   "outputs": [
    {
     "name": "stdout",
     "output_type": "stream",
     "text": [
      "Model: \"CNN_Model\"\n",
      "_________________________________________________________________\n",
      " Layer (type)                Output Shape              Param #   \n",
      "=================================================================\n",
      " CNN_input (InputLayer)      [(None, 28, 28, 1)]       0         \n",
      "                                                                 \n",
      " conv_1 (Conv2D)             (None, 26, 26, 32)        320       \n",
      "                                                                 \n",
      " conv_2 (Conv2D)             (None, 24, 24, 32)        9248      \n",
      "                                                                 \n",
      " pooling_layer_1 (MaxPooling  (None, 8, 8, 32)         0         \n",
      " 2D)                                                             \n",
      "                                                                 \n",
      " conv_3 (Conv2D)             (None, 6, 6, 64)          18496     \n",
      "                                                                 \n",
      " conv_4 (Conv2D)             (None, 4, 4, 64)          36928     \n",
      "                                                                 \n",
      " pooling_layer_2 (MaxPooling  (None, 1, 1, 64)         0         \n",
      " 2D)                                                             \n",
      "                                                                 \n",
      " droupout_regularization_0.2  (None, 1, 1, 64)         0         \n",
      " 5 (Dropout)                                                     \n",
      "                                                                 \n",
      " flatten (Flatten)           (None, 64)                0         \n",
      "                                                                 \n",
      " hidden_dense_unit (Dense)   (None, 150)               9750      \n",
      "                                                                 \n",
      " cnn_output (Dense)          (None, 10)                1510      \n",
      "                                                                 \n",
      "=================================================================\n",
      "Total params: 76,252\n",
      "Trainable params: 76,252\n",
      "Non-trainable params: 0\n",
      "_________________________________________________________________\n"
     ]
    }
   ],
   "source": [
    "cnn_model.summary()"
   ]
  },
  {
   "cell_type": "code",
   "execution_count": 49,
   "id": "mediterranean-apparel",
   "metadata": {},
   "outputs": [],
   "source": [
    "cnn_model.compile('rmsprop', loss='categorical_crossentropy', metrics=['accuracy'])"
   ]
  },
  {
   "cell_type": "code",
   "execution_count": 50,
   "id": "shaped-mistress",
   "metadata": {},
   "outputs": [
    {
     "name": "stdout",
     "output_type": "stream",
     "text": [
      "Epoch 1/5\n",
      "1875/1875 [==============================] - 106s 56ms/step - loss: 0.6189 - accuracy: 0.7731 - val_loss: 0.3720 - val_accuracy: 0.8555\n",
      "Epoch 2/5\n",
      "1875/1875 [==============================] - 106s 57ms/step - loss: 0.3906 - accuracy: 0.8583 - val_loss: 0.2941 - val_accuracy: 0.8928\n",
      "Epoch 3/5\n",
      "1875/1875 [==============================] - 104s 55ms/step - loss: 0.3381 - accuracy: 0.8790 - val_loss: 0.2995 - val_accuracy: 0.8958\n",
      "Epoch 4/5\n",
      "1875/1875 [==============================] - 101s 54ms/step - loss: 0.3185 - accuracy: 0.8864 - val_loss: 0.2666 - val_accuracy: 0.9000\n",
      "Epoch 5/5\n",
      "1875/1875 [==============================] - 103s 55ms/step - loss: 0.3081 - accuracy: 0.8929 - val_loss: 0.2665 - val_accuracy: 0.9026\n"
     ]
    },
    {
     "data": {
      "text/plain": [
       "<keras.callbacks.History at 0x223562dc2b0>"
      ]
     },
     "execution_count": 50,
     "metadata": {},
     "output_type": "execute_result"
    }
   ],
   "source": [
    "cnn_model.fit(X_train_cnn, y_train_ohe, epochs=5, batch_size=32, validation_data=(X_test_cnn, y_test_ohe))"
   ]
  },
  {
   "cell_type": "code",
   "execution_count": null,
   "id": "animated-spring",
   "metadata": {},
   "outputs": [],
   "source": []
  }
 ],
 "metadata": {
  "kernelspec": {
   "display_name": "Python 3",
   "language": "python",
   "name": "python3"
  },
  "language_info": {
   "codemirror_mode": {
    "name": "ipython",
    "version": 3
   },
   "file_extension": ".py",
   "mimetype": "text/x-python",
   "name": "python",
   "nbconvert_exporter": "python",
   "pygments_lexer": "ipython3",
   "version": "3.9.1"
  }
 },
 "nbformat": 4,
 "nbformat_minor": 5
}
